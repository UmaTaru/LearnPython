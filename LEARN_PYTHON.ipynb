{
  "nbformat": 4,
  "nbformat_minor": 0,
  "metadata": {
    "colab": {
      "name": "LEARN_PYTHON.ipynb",
      "provenance": [],
      "authorship_tag": "ABX9TyObcwnUavUyBYM6R7qWZVNr",
      "include_colab_link": true
    },
    "kernelspec": {
      "name": "python3",
      "display_name": "Python 3"
    },
    "language_info": {
      "name": "python"
    }
  },
  "cells": [
    {
      "cell_type": "markdown",
      "metadata": {
        "id": "view-in-github",
        "colab_type": "text"
      },
      "source": [
        "<a href=\"https://colab.research.google.com/github/UmaTaru/LearnPython/blob/main/LEARN_PYTHON.ipynb\" target=\"_parent\"><img src=\"https://colab.research.google.com/assets/colab-badge.svg\" alt=\"Open In Colab\"/></a>"
      ]
    },
    {
      "cell_type": "code",
      "metadata": {
        "colab": {
          "base_uri": "https://localhost:8080/"
        },
        "id": "vGpAjBlH_Lw2",
        "outputId": "1254f808-3bf2-4bb1-926a-5916aa4e1418"
      },
      "source": [
        "print(\"Hello World\")"
      ],
      "execution_count": null,
      "outputs": [
        {
          "output_type": "stream",
          "text": [
            "Hello World\n"
          ],
          "name": "stdout"
        }
      ]
    },
    {
      "cell_type": "markdown",
      "metadata": {
        "id": "fX1i4H0M_oku"
      },
      "source": [
        "ORDER OF EXECUTION IS IMPORTANT"
      ]
    },
    {
      "cell_type": "code",
      "metadata": {
        "colab": {
          "base_uri": "https://localhost:8080/"
        },
        "id": "--2Etm4R_XOn",
        "outputId": "f691664c-aecc-49de-9a62-9a8758869ae0"
      },
      "source": [
        "\n",
        "print(\"     /|\")\n",
        "print(\"    / |\")\n",
        "print(\"   /  |\")\n",
        "print(\"  /___|\")\n",
        "print()\n",
        "print(\"  /___|\")\n",
        "print(\"     /|\")\n",
        "print(\"    / |\")\n",
        "print(\"   /  |\")"
      ],
      "execution_count": null,
      "outputs": [
        {
          "output_type": "stream",
          "text": [
            "     /|\n",
            "    / |\n",
            "   /  |\n",
            "  /___|\n",
            "\n",
            "  /___|\n",
            "     /|\n",
            "    / |\n",
            "   /  |\n"
          ],
          "name": "stdout"
        }
      ]
    },
    {
      "cell_type": "code",
      "metadata": {
        "colab": {
          "base_uri": "https://localhost:8080/"
        },
        "id": "byQztOLL_tqy",
        "outputId": "cc9031cd-fb17-4089-f06d-26d7e5dd3510"
      },
      "source": [
        "print('There once was a man named George')\n",
        "print('He was 70 years old')\n",
        "print ('he really liked his name George')\n",
        "print(\"But he really didn't really like being 70\")"
      ],
      "execution_count": null,
      "outputs": [
        {
          "output_type": "stream",
          "text": [
            "There once was a man named George\n",
            "He was 70 years old\n",
            "he really liked his name George\n",
            "But he really didn't really like being 70\n"
          ],
          "name": "stdout"
        }
      ]
    },
    {
      "cell_type": "markdown",
      "metadata": {
        "id": "UtUHnvSBAXDV"
      },
      "source": [
        "VARIABLES"
      ]
    },
    {
      "cell_type": "code",
      "metadata": {
        "colab": {
          "base_uri": "https://localhost:8080/"
        },
        "id": "nLNUPTotAYQc",
        "outputId": "ad70b16f-890d-4df3-ac68-a47122d1fa1e"
      },
      "source": [
        "name = 'John'\n",
        "age = '35'\n",
        "print('There once was a man named'+name)\n",
        "print('He was '+age+' years old')\n",
        "print ('he really liked his name '+name)\n",
        "print(\"But he really didn't really like being\"+age)"
      ],
      "execution_count": null,
      "outputs": [
        {
          "output_type": "stream",
          "text": [
            "There once was a man namedJohn\n",
            "He was 35 years old\n",
            "he really liked his name John\n",
            "But he really didn't really like being35\n"
          ],
          "name": "stdout"
        }
      ]
    },
    {
      "cell_type": "code",
      "metadata": {
        "colab": {
          "base_uri": "https://localhost:8080/"
        },
        "id": "A1dddmoaBrGL",
        "outputId": "acff15aa-d375-439f-e757-0fa897f75b55"
      },
      "source": [
        "name = 'John'\n",
        "age = '35'\n",
        "print('There once was a man named',name)\n",
        "print('He was ',age,' years old')\n",
        "print ('he really liked his name ',name)\n",
        "print(\"But he really didn't really like being\",age)"
      ],
      "execution_count": null,
      "outputs": [
        {
          "output_type": "stream",
          "text": [
            "There once was a man named John\n",
            "He was  35  years old\n",
            "he really liked his name  John\n",
            "But he really didn't really like being 35\n"
          ],
          "name": "stdout"
        }
      ]
    },
    {
      "cell_type": "code",
      "metadata": {
        "colab": {
          "base_uri": "https://localhost:8080/"
        },
        "id": "0tI3AAAIB_Sk",
        "outputId": "2ba9ec35-47e3-4cbf-fd9d-9d2fbb98ae58"
      },
      "source": [
        "name = 'John'\n",
        "age = '35'\n",
        "print('There once was a man named'+name)\n",
        "print('He was '+age+' years old')\n",
        "name = \"mike\"\n",
        "age = 13\n",
        "print ('he really liked his name '+name)\n",
        "print(\"But he really didn't really like being\",age)"
      ],
      "execution_count": null,
      "outputs": [
        {
          "output_type": "stream",
          "text": [
            "There once was a man namedJohn\n",
            "He was 35 years old\n",
            "he really liked his name mike\n",
            "But he really didn't really like being 13\n"
          ],
          "name": "stdout"
        }
      ]
    },
    {
      "cell_type": "code",
      "metadata": {
        "colab": {
          "base_uri": "https://localhost:8080/"
        },
        "id": "Ah7BeORkChMT",
        "outputId": "45814c71-4b6d-44ab-fa95-25871f8e7d61"
      },
      "source": [
        "flag = False\n",
        "if flag == True:\n",
        "  print(\"TRUE\")\n",
        "else :\n",
        "  print(\"FALSE\")\n"
      ],
      "execution_count": null,
      "outputs": [
        {
          "output_type": "stream",
          "text": [
            "FALSE\n"
          ],
          "name": "stdout"
        }
      ]
    },
    {
      "cell_type": "markdown",
      "metadata": {
        "id": "QQQi2tuhEUwg"
      },
      "source": [
        "WORKING WITH STRINGS"
      ]
    },
    {
      "cell_type": "code",
      "metadata": {
        "colab": {
          "base_uri": "https://localhost:8080/"
        },
        "id": "e2aDLZcLEXmW",
        "outputId": "4d8398e0-9e64-4486-c64e-dd6f5a52d8bf"
      },
      "source": [
        "print('Uma \\\"Taru\"')\n",
        "print('Uma \\n Taru')\n",
        "print('Uma\\Taru')\n",
        "name = 'Uma Taru'\n",
        "print(name + ' is pursuing Masters')\n",
        "print(\"My stream is \\\"Computer Science\\\"\")\n"
      ],
      "execution_count": null,
      "outputs": [
        {
          "output_type": "stream",
          "text": [
            "Uma \"Taru\"\n",
            "Uma \n",
            " Taru\n",
            "Uma\\Taru\n",
            "Uma Taru is pursuing Masters\n",
            "My stream is \"Computer Science\"\n"
          ],
          "name": "stdout"
        }
      ]
    },
    {
      "cell_type": "markdown",
      "metadata": {
        "id": "JAhwS_9tVz4v"
      },
      "source": [
        "STRING FUNCTIONS"
      ]
    },
    {
      "cell_type": "code",
      "metadata": {
        "colab": {
          "base_uri": "https://localhost:8080/"
        },
        "id": "34TL0-F4V1Ey",
        "outputId": "41ec1422-0875-4a11-8848-6909ad5c47f1"
      },
      "source": [
        "phrase = \"cryptography and network security\"\n",
        "print(phrase.upper())\n",
        "print(phrase.upper().isupper())\n",
        "print(len(phrase))\n",
        "print(phrase[9])\n",
        "print(phrase.index(\"net\"))\n",
        "print(phrase.replace(\"and\",\"&\"))\n"
      ],
      "execution_count": null,
      "outputs": [
        {
          "output_type": "stream",
          "text": [
            "CRYPTOGRAPHY AND NETWORK SECURITY\n",
            "True\n",
            "33\n",
            "p\n",
            "17\n",
            "cryptography & network security\n"
          ],
          "name": "stdout"
        }
      ]
    },
    {
      "cell_type": "markdown",
      "metadata": {
        "id": "QE0ITbbLYg7O"
      },
      "source": [
        "WORKING WITH NUMBERS"
      ]
    },
    {
      "cell_type": "code",
      "metadata": {
        "colab": {
          "base_uri": "https://localhost:8080/"
        },
        "id": "l50cyvEgYjQk",
        "outputId": "81467824-a58f-452b-9d45-600b54268db8"
      },
      "source": [
        "print(2)\n",
        "print(2.0987)\n",
        "print(-09.3)\n",
        "print(9999 * 6453)\n",
        "print(3 *(4 + 5))\n",
        "print(10 % 3)\n",
        "print(10/3)\n",
        "\n",
        "my_num = -5\n",
        "print(str(my_num)+\" my favourite number\")\n",
        "print(abs(my_num))\n",
        "print(pow(3,2))\n",
        "print(max(4,100))\n",
        "print(round(3.5))\n"
      ],
      "execution_count": null,
      "outputs": [
        {
          "output_type": "stream",
          "text": [
            "2\n",
            "2.0987\n",
            "-9.3\n",
            "64523547\n",
            "27\n",
            "1\n",
            "3.3333333333333335\n",
            "-5 my favourite number\n",
            "5\n",
            "9\n",
            "100\n",
            "4\n"
          ],
          "name": "stdout"
        }
      ]
    },
    {
      "cell_type": "code",
      "metadata": {
        "colab": {
          "base_uri": "https://localhost:8080/"
        },
        "id": "tUjegO5ycClj",
        "outputId": "5a40a5c8-1c8d-45d9-c50f-47a48f64804e"
      },
      "source": [
        "from math import *\n",
        "print(floor(3.7))\n",
        "print(ceil(9.4))\n",
        "print(sqrt(16))\n",
        "\n"
      ],
      "execution_count": null,
      "outputs": [
        {
          "output_type": "stream",
          "text": [
            "3\n",
            "10\n",
            "4.0\n"
          ],
          "name": "stdout"
        }
      ]
    },
    {
      "cell_type": "markdown",
      "metadata": {
        "id": "uvfhIjbrcqYJ"
      },
      "source": [
        "GETTING INPUT FROM USERS"
      ]
    },
    {
      "cell_type": "code",
      "metadata": {
        "colab": {
          "base_uri": "https://localhost:8080/"
        },
        "id": "klsKQ9XOct57",
        "outputId": "b53bac26-13ce-4ddb-dccb-8dba14247227"
      },
      "source": [
        "#input(\"Enter your name: \")\n",
        "name = input(\"Enter your name : \")\n",
        "age = input(\"Enter your age : \")\n",
        "print(\"Hello \"+name+\"! You're \"+age)\n",
        "\n"
      ],
      "execution_count": null,
      "outputs": [
        {
          "output_type": "stream",
          "text": [
            "Enter your name : Uma\n",
            "Enter your age : 23\n",
            "Hello Uma! You're 23\n"
          ],
          "name": "stdout"
        }
      ]
    },
    {
      "cell_type": "markdown",
      "metadata": {
        "id": "kuBZmtm_eSKx"
      },
      "source": [
        "**BUILDING A BASIC CALCULATOR**\n"
      ]
    },
    {
      "cell_type": "code",
      "metadata": {
        "colab": {
          "base_uri": "https://localhost:8080/"
        },
        "id": "EGIctBvIeXOd",
        "outputId": "eaa49f9c-4554-4111-c4b0-492d8b2307ac"
      },
      "source": [
        "a = input(\"Enter first number \")\n",
        "b = input(\"Enter second number \")\n",
        "add = a + b\n",
        "print(\"Addition of \"+a+\" and \"+b+\" is \"+add)\n",
        "add = int(a) + int(b)\n",
        "print(\"Addition of \",a,\" and \",b,\" is \",add)\n",
        "add = float(a) + float(b)\n",
        "print(\"Addition of \",a,\" and \",b,\" is \",add)\n",
        "\n",
        "\n"
      ],
      "execution_count": null,
      "outputs": [
        {
          "output_type": "stream",
          "text": [
            "Enter first number 2\n",
            "Enter second number 3\n",
            "Addition of 2 and 3 is 23\n",
            "Addition of  2  and  3  is  5\n",
            "Addition of  2  and  3  is  5.0\n"
          ],
          "name": "stdout"
        }
      ]
    },
    {
      "cell_type": "markdown",
      "metadata": {
        "id": "g9fI9-B2hykw"
      },
      "source": [
        "MAD LIBS GAME"
      ]
    },
    {
      "cell_type": "code",
      "metadata": {
        "colab": {
          "base_uri": "https://localhost:8080/"
        },
        "id": "zJE0i6Tnh0Qs",
        "outputId": "493fdecf-375f-43bb-ce7f-390ae255bd98"
      },
      "source": [
        "color = input(\"Enter a color : \")\n",
        "plural_noun = input(\"Enter a plural noun : \")\n",
        "celeb_name = input(\"Enter a celeb name : \")\n",
        "\n",
        "print(\"Roses are \"+color)\n",
        "print(plural_noun+\" are blue\")\n",
        "print(\"I love \"+celeb_name)\n"
      ],
      "execution_count": null,
      "outputs": [
        {
          "output_type": "stream",
          "text": [
            "Enter a color : Magenta\n",
            "Enter a plural noun : Microwaves\n",
            "Enter a celeb name : Tom \n",
            "Roses are Magenta\n",
            "Microwaves are blue\n",
            "I love Tom \n"
          ],
          "name": "stdout"
        }
      ]
    },
    {
      "cell_type": "markdown",
      "metadata": {
        "id": "GxqWvFkbH-J0"
      },
      "source": [
        "## **LISTS**"
      ]
    },
    {
      "cell_type": "code",
      "metadata": {
        "colab": {
          "base_uri": "https://localhost:8080/"
        },
        "id": "Kc6NeHeYH9qj",
        "outputId": "8c8b130d-8dbd-48b5-e9b2-b9942bcdee14"
      },
      "source": [
        "friends = [\"Kevin\",\"Karen\",\"Jim\", \"Oscar\", \"Toby\",]\n",
        "friends2 = [\"a\",1, 1.00]\n",
        "print(friends)\n",
        "print(friends[0])\n",
        "print(friends[2])\n",
        "print(friends[-1])\n",
        "print(friends[1:])\n",
        "print(friends[1:3])\n",
        "friends[1] = \"Mike\"\n",
        "print(friends)"
      ],
      "execution_count": null,
      "outputs": [
        {
          "output_type": "stream",
          "text": [
            "['Kevin', 'Karen', 'Jim', 'Oscar', 'Toby']\n",
            "Kevin\n",
            "Jim\n",
            "Toby\n",
            "['Karen', 'Jim', 'Oscar', 'Toby']\n",
            "['Karen', 'Jim']\n",
            "['Kevin', 'Mike', 'Jim', 'Oscar', 'Toby']\n"
          ],
          "name": "stdout"
        }
      ]
    },
    {
      "cell_type": "markdown",
      "metadata": {
        "id": "xyyr3_UcKHtH"
      },
      "source": [
        "LIST FUNCTIONS"
      ]
    },
    {
      "cell_type": "code",
      "metadata": {
        "colab": {
          "base_uri": "https://localhost:8080/"
        },
        "id": "hMR6Jf80KHJY",
        "outputId": "22a53a3a-35c3-4649-fbe3-66c039fbd6ea"
      },
      "source": [
        "num = [4,5,15,16,23,42]\n",
        "friends = [\"Kevin\",\"Karen\",\"Jim\",\"Jim\",\"Jim\", \"Oscar\", \"Toby\",]\n",
        "#friends.extend(num)\n",
        "\n",
        "print(friends)\n",
        "friends.append(\"Creed\")\n",
        "print(friends)\n",
        "num.insert(1,100)\n",
        "print(num)\n",
        "num.remove(16)\n",
        "print(num)\n",
        "#num.clear()\n",
        "#print(num)\n",
        "removed = friends.pop()\n",
        "print(\"Popped element : \",removed)\n",
        "print(friends.index(\"Jim\"))\n",
        "print(friends.count(\"Kevin\"))\n",
        "friends.sort()\n",
        "print(friends)\n",
        "num.sort()\n",
        "print(num)\n",
        "num.reverse()\n",
        "print(num)\n",
        "friends2 = friends.copy()\n",
        "print(\"Friends 2 = \",friends2)"
      ],
      "execution_count": null,
      "outputs": [
        {
          "output_type": "stream",
          "text": [
            "['Kevin', 'Karen', 'Jim', 'Jim', 'Jim', 'Oscar', 'Toby']\n",
            "['Kevin', 'Karen', 'Jim', 'Jim', 'Jim', 'Oscar', 'Toby', 'Creed']\n",
            "[4, 100, 5, 15, 16, 23, 42]\n",
            "[4, 100, 5, 15, 23, 42]\n",
            "Popped element :  Creed\n",
            "2\n",
            "1\n",
            "['Jim', 'Jim', 'Jim', 'Karen', 'Kevin', 'Oscar', 'Toby']\n",
            "[4, 5, 15, 23, 42, 100]\n",
            "[100, 42, 23, 15, 5, 4]\n",
            "Friends 2 =  ['Jim', 'Jim', 'Jim', 'Karen', 'Kevin', 'Oscar', 'Toby']\n"
          ],
          "name": "stdout"
        }
      ]
    },
    {
      "cell_type": "markdown",
      "metadata": {
        "id": "xe0_HajMR4yz"
      },
      "source": [
        "# **TUPLES**\n",
        "Tuples are containers where we store different values\n",
        "Tuples are immutable - tuple can't be changed or modified"
      ]
    },
    {
      "cell_type": "code",
      "metadata": {
        "colab": {
          "base_uri": "https://localhost:8080/"
        },
        "id": "0ZT2LqIMR9ty",
        "outputId": "7239bde2-73b4-461e-8223-e01c106138e0"
      },
      "source": [
        "coo = (4,5)\n",
        "#coo[1] = 10 ERROR -- 'tuple' object does not support item assignment\n",
        "print(coo[0])\n",
        "print(coo[1])\n",
        "\n",
        "list_of_tuples = [(4,5),(6,7),(80,34)]\n",
        "print(list_of_tuples[0][1])\n"
      ],
      "execution_count": null,
      "outputs": [
        {
          "output_type": "stream",
          "text": [
            "4\n",
            "5\n",
            "5\n"
          ],
          "name": "stdout"
        }
      ]
    },
    {
      "cell_type": "markdown",
      "metadata": {
        "id": "gqlv5aZRUbbj"
      },
      "source": [
        "**FUNCTIONS**\n",
        "organise your code"
      ]
    },
    {
      "cell_type": "code",
      "metadata": {
        "colab": {
          "base_uri": "https://localhost:8080/"
        },
        "id": "S43e765KUZl8",
        "outputId": "b0ddae2b-3f0b-419e-c658-1cb8cec11f79"
      },
      "source": [
        "def say_hi():\n",
        "  print(\"Entered the function\")\n",
        "  print(\"Hello User\")\n",
        "  print(\"Exiting function\")\n",
        "\n",
        "#calling the function\n",
        "print(\"TOP\")\n",
        "say_hi()\n",
        "print(\"BOTTOM\")\n",
        "\n",
        "#parameter - piece of information we give to function\n",
        "def add(a,b):\n",
        "  print(a+b)\n",
        "add(1000,1)\n",
        "add(9,10)\n"
      ],
      "execution_count": null,
      "outputs": [
        {
          "output_type": "stream",
          "text": [
            "TOP\n",
            "Entered the function\n",
            "Hello User\n",
            "Exiting function\n",
            "BOTTOM\n",
            "1001\n",
            "19\n"
          ],
          "name": "stdout"
        }
      ]
    },
    {
      "cell_type": "markdown",
      "metadata": {
        "id": "NMANhxoFH9N8"
      },
      "source": [
        "## RETURN **STATEMENT**\n",
        "return value back from a function\n",
        "\n"
      ]
    },
    {
      "cell_type": "code",
      "metadata": {
        "colab": {
          "base_uri": "https://localhost:8080/"
        },
        "id": "RjjHJ4ylIA4L",
        "outputId": "14152f76-d7b3-43f3-f62d-a614208a9e78"
      },
      "source": [
        "def cube(a):\n",
        "  return a*a*a\n",
        "  print(\"I'M NOT GETTEING PRINTED\")\n",
        "\n",
        "#result = cube(5)\n",
        "#print(result)\n",
        "print(cube(2))\n",
        "cube(3)"
      ],
      "execution_count": null,
      "outputs": [
        {
          "output_type": "stream",
          "text": [
            "8\n"
          ],
          "name": "stdout"
        },
        {
          "output_type": "execute_result",
          "data": {
            "text/plain": [
              "27"
            ]
          },
          "metadata": {
            "tags": []
          },
          "execution_count": 7
        }
      ]
    },
    {
      "cell_type": "markdown",
      "metadata": {
        "id": "8EImFh_9JwuW"
      },
      "source": [
        "## **IF STATEMENT**\n",
        "special stuctures to let programs make decisions"
      ]
    },
    {
      "cell_type": "code",
      "metadata": {
        "colab": {
          "base_uri": "https://localhost:8080/"
        },
        "id": "0gKpayERKwne",
        "outputId": "411c72e0-5547-4f39-e067-13c357dfb4e7"
      },
      "source": [
        "is_male = False\n",
        "if is_male:\n",
        "  print(\"Person is Male\")\n",
        "else :\n",
        "  print(\"Person is Female\")"
      ],
      "execution_count": null,
      "outputs": [
        {
          "output_type": "stream",
          "text": [
            "Person is Female\n"
          ],
          "name": "stdout"
        }
      ]
    },
    {
      "cell_type": "code",
      "metadata": {
        "colab": {
          "base_uri": "https://localhost:8080/"
        },
        "id": "-_16pixPLmwL",
        "outputId": "45f76714-ff2f-4861-d514-d47889d99a32"
      },
      "source": [
        "is_male = False\n",
        "is_tall = True\n",
        "if is_male and is_tall:\n",
        "  print(\"Male and tall\")\n",
        "elif is_male and not(is_tall):\n",
        "  print(\"male and not tall\")\n",
        "elif not(is_male) and is_tall:\n",
        "  print(\"not male but tall\")\n",
        "else :\n",
        "  print(\"not male nor tall\")\n",
        "\n"
      ],
      "execution_count": null,
      "outputs": [
        {
          "output_type": "stream",
          "text": [
            "not male but tall\n"
          ],
          "name": "stdout"
        }
      ]
    },
    {
      "cell_type": "markdown",
      "metadata": {
        "id": "cv9W8vK_NQLv"
      },
      "source": [
        "##if statements and comparison"
      ]
    },
    {
      "cell_type": "code",
      "metadata": {
        "colab": {
          "base_uri": "https://localhost:8080/"
        },
        "id": "nzpg4xnxNS0p",
        "outputId": "ae6aeeb7-f839-4872-c4bd-94199df5ecc6"
      },
      "source": [
        "def max(a,b,c):\n",
        "  if a >= b and a >= c:\n",
        "    print(\"First number is maxium\")\n",
        "  elif b >= c :\n",
        "    print(\"Second number is maxium\")\n",
        "  else : \n",
        "    print(\"Third number is maxium\")\n",
        "max(2,3,4)\n",
        "max(4,3,2)\n",
        "max(1,100,3)"
      ],
      "execution_count": null,
      "outputs": [
        {
          "output_type": "stream",
          "text": [
            "Third number is maxium\n",
            "First number is maxium\n",
            "Second number is maxium\n"
          ],
          "name": "stdout"
        }
      ]
    },
    {
      "cell_type": "markdown",
      "metadata": {
        "id": "2my8cz6QO2Ob"
      },
      "source": [
        "BUILDING A BETTER CALCULATOR"
      ]
    },
    {
      "cell_type": "code",
      "metadata": {
        "colab": {
          "base_uri": "https://localhost:8080/"
        },
        "id": "pbTYnAvIO5Mq",
        "outputId": "180356c9-6362-498c-ab39-e5db1332fc30"
      },
      "source": [
        "def calculate(a,b):\n",
        "  op = operator()\n",
        "  if op == '+':\n",
        "    print(\"Addition of \",a,\" and \",b,\" is \",a+b)\n",
        "  elif op == '-':\n",
        "    print(\"Subtraction of \",a,\" and \",b,\" is \",a-b)\n",
        "  elif op == '*':\n",
        "    print(\"Product of \",a,\" and \",b,\" is \",a*b)\n",
        "  elif op == '/':\n",
        "    print(\"Division of \",a,\" and \",b,\" is \",a/b)\n",
        "  elif op == '%':\n",
        "    print(\"Mod of \",a,\" and \",b,\" is \",a%b)\n",
        "\n",
        "def operator():\n",
        "  operator = input(\"Enter your operator : \")\n",
        "  return operator\n",
        "\n",
        "a = float(input(\"Enter a : \"))\n",
        "\n",
        "b = float(input(\"Enter b : \"))\n",
        "calculate(a,b)"
      ],
      "execution_count": null,
      "outputs": [
        {
          "output_type": "stream",
          "text": [
            "Enter a : 5\n",
            "Enter b : 3\n",
            "Enter your operator : %\n",
            "Mod of  5.0  and  3.0  is  2.0\n"
          ],
          "name": "stdout"
        }
      ]
    },
    {
      "cell_type": "markdown",
      "metadata": {
        "id": "sSvZd3j7azqE"
      },
      "source": [
        "# DICTIONARIES\n",
        "allows us to store information in form of (key,value)"
      ]
    },
    {
      "cell_type": "code",
      "metadata": {
        "colab": {
          "base_uri": "https://localhost:8080/"
        },
        "id": "JhJGPPcpbGjh",
        "outputId": "05e8fdfa-5968-4128-f06e-5fd8950b8400"
      },
      "source": [
        "monthConv = {\n",
        "    \"Jan\" : \"January\",\n",
        "    \"Feb\" : \"February\",\n",
        "    \"Mar\" : \"March\",\n",
        "    \"Apr\" : \"April\",\n",
        "    \"May\" : \"May\",\n",
        "    \"Jun\" : \"June\",\n",
        "    \"Jul\" : \"July\",\n",
        "    \"Aug\" : \"August\",\n",
        "    \"Sep\" : \"September\",\n",
        "    \"Oct\" : \"October\",\n",
        "    \"Nov\" : \"November\",\n",
        "    \"Dec\" : \"December\"\n",
        "}\n",
        "print(monthConv[\"Nov\"])\n",
        "print(monthConv.get(\"Dec\"))\n",
        "print(monthConv.get(\"Luv\"))\n",
        "print(monthConv.get(\"Luv\",\"Not a valid key\"))"
      ],
      "execution_count": null,
      "outputs": [
        {
          "output_type": "stream",
          "text": [
            "November\n",
            "December\n",
            "None\n",
            "Not a valid key\n"
          ],
          "name": "stdout"
        }
      ]
    },
    {
      "cell_type": "markdown",
      "metadata": {
        "id": "kiEiOSBnoZNy"
      },
      "source": [
        "##WHILE STATEMENT"
      ]
    },
    {
      "cell_type": "code",
      "metadata": {
        "colab": {
          "base_uri": "https://localhost:8080/"
        },
        "id": "Ma2OOjZyodmu",
        "outputId": "de35d452-da92-4239-cd87-06da0c7af8ec"
      },
      "source": [
        "i = 1\n",
        "while i <=10:\n",
        "  print(i)\n",
        "  i += 1\n",
        "print(\"Done!!\")"
      ],
      "execution_count": null,
      "outputs": [
        {
          "output_type": "stream",
          "text": [
            "1\n",
            "2\n",
            "3\n",
            "4\n",
            "5\n",
            "6\n",
            "7\n",
            "8\n",
            "9\n",
            "10\n",
            "Done!!\n"
          ],
          "name": "stdout"
        }
      ]
    },
    {
      "cell_type": "markdown",
      "metadata": {
        "id": "e_TvMum_qv-m"
      },
      "source": [
        "## **GUESSING GAME**"
      ]
    },
    {
      "cell_type": "code",
      "metadata": {
        "colab": {
          "base_uri": "https://localhost:8080/"
        },
        "id": "O0I0BPypqzl6",
        "outputId": "418f8941-6220-4214-b2ea-1e5d79b3291e"
      },
      "source": [
        "secret_word = \"giraffe\"\n",
        "guess = \" \"\n",
        "chances_left = 3\n",
        "while guess != secret_word :\n",
        "  guess = input(\"Enter your guess : \")\n",
        "  if guess != secret_word :\n",
        "    chances_left = chances_left -1\n",
        "    if chances_left == 0:\n",
        "      print(\"YOU LOSE !!!\\nThe secret word is : \", secret_word)\n",
        "      break\n",
        "    print(\"TRY AGAIN ! Chances left = \",chances_left)\n",
        "  else :\n",
        "    print(\"YOU WON !!!\")\n",
        "\n",
        "\n",
        "\n"
      ],
      "execution_count": null,
      "outputs": [
        {
          "output_type": "stream",
          "text": [
            "Enter your guess : you\n",
            "TRY AGAIN ! Chances left =  2\n",
            "Enter your guess : ad\n",
            "TRY AGAIN ! Chances left =  1\n",
            "Enter your guess : ad\n",
            "YOU LOSE !!!\n",
            "The secret word is :  giraffe\n"
          ],
          "name": "stdout"
        }
      ]
    },
    {
      "cell_type": "markdown",
      "metadata": {
        "id": "IRDHEYVlHaEH"
      },
      "source": [
        "## **FOR LOOP**"
      ]
    },
    {
      "cell_type": "code",
      "metadata": {
        "colab": {
          "base_uri": "https://localhost:8080/"
        },
        "id": "n99ZfUqqHdgK",
        "outputId": "ece20e70-9348-45b4-b364-7631a1a6d722"
      },
      "source": [
        "for i in \"Giraffe Academy\":\n",
        "  print(i)\n",
        "\n",
        "fnd = [\"Jim\",\"Karen\",\"Kevin\"]\n",
        "for i in fnd :\n",
        "  print(i)\n",
        "for i in range(len(fnd)) :\n",
        "  print(fnd[i])\n",
        "\n",
        "for i in range(1,10):\n",
        "  print(i)\n",
        "\n",
        "for i in range(5):\n",
        "  if i == 0:\n",
        "    print(\"First iteration\")\n",
        "  else:\n",
        "    print(\"NOT first\")\n"
      ],
      "execution_count": null,
      "outputs": [
        {
          "output_type": "stream",
          "text": [
            "G\n",
            "i\n",
            "r\n",
            "a\n",
            "f\n",
            "f\n",
            "e\n",
            " \n",
            "A\n",
            "c\n",
            "a\n",
            "d\n",
            "e\n",
            "m\n",
            "y\n",
            "Jim\n",
            "Karen\n",
            "Kevin\n",
            "Jim\n",
            "Karen\n",
            "Kevin\n",
            "1\n",
            "2\n",
            "3\n",
            "4\n",
            "5\n",
            "6\n",
            "7\n",
            "8\n",
            "9\n",
            "First iteration\n",
            "NOT first\n",
            "NOT first\n",
            "NOT first\n",
            "NOT first\n"
          ],
          "name": "stdout"
        }
      ]
    },
    {
      "cell_type": "markdown",
      "metadata": {
        "id": "Ou4UjNkv9tKS"
      },
      "source": [
        "## EXPONENT FUNCTION"
      ]
    },
    {
      "cell_type": "code",
      "metadata": {
        "colab": {
          "base_uri": "https://localhost:8080/"
        },
        "id": "nTd-rhAN908E",
        "outputId": "9beddfd7-a9be-446b-fbe5-ee9460da0440"
      },
      "source": [
        "print(2**3)\n",
        "\n",
        "def expo(b, p):\n",
        "  res = 1\n",
        "  for i in range(p):\n",
        "    res = res*b\n",
        "  return res\n",
        "print(expo(2,3))\n",
        "print(expo(3,9))"
      ],
      "execution_count": null,
      "outputs": [
        {
          "output_type": "stream",
          "text": [
            "8\n",
            "8\n",
            "19683\n"
          ],
          "name": "stdout"
        }
      ]
    },
    {
      "cell_type": "markdown",
      "metadata": {
        "id": "rrySF7Hy_V6M"
      },
      "source": [
        "## **2D LISTS AND NESTED LOOPS**"
      ]
    },
    {
      "cell_type": "code",
      "metadata": {
        "colab": {
          "base_uri": "https://localhost:8080/"
        },
        "id": "Q-iUGQwK_cDH",
        "outputId": "e838f569-181c-4e3f-be1e-65dd71656fec"
      },
      "source": [
        "grid = [\n",
        "        [1,2,3],\n",
        "        [4,5,6],\n",
        "        [7,8,9],\n",
        "        [0]\n",
        "]\n",
        "print(grid[0][0])\n",
        "for row in grid:\n",
        "  for col in row:\n",
        "    print(col)"
      ],
      "execution_count": null,
      "outputs": [
        {
          "output_type": "stream",
          "text": [
            "1\n",
            "1\n",
            "2\n",
            "3\n",
            "4\n",
            "5\n",
            "6\n",
            "7\n",
            "8\n",
            "9\n",
            "0\n"
          ],
          "name": "stdout"
        }
      ]
    },
    {
      "cell_type": "markdown",
      "metadata": {
        "id": "dD0zI9q8Fvlf"
      },
      "source": [
        "# BUILD A TRANSLATOR"
      ]
    },
    {
      "cell_type": "code",
      "metadata": {
        "colab": {
          "base_uri": "https://localhost:8080/"
        },
        "id": "537d1M1EF0qn",
        "outputId": "b2661a04-082f-4907-a3a9-fcf9d1eff7b5"
      },
      "source": [
        "def translate(phrase):\n",
        "  translate = \"\"\n",
        "  for letter in phrase:\n",
        "    if letter.lower() in \"aeiou\":\n",
        "      if letter.isupper() :\n",
        "        translate = translate + 'G'\n",
        "      else:\n",
        "        translate = translate + 'g'\n",
        "    else :\n",
        "      translate = translate + letter\n",
        "  return translate\n",
        "phrase = \"To bE or nOt to Be\"\n",
        "print(translate(phrase))\n",
        "phrase = \"giraffe is A tall Animal\"\n",
        "print(translate(phrase))"
      ],
      "execution_count": null,
      "outputs": [
        {
          "output_type": "stream",
          "text": [
            "Tg bG gr nGt tg Bg\n",
            "ggrgffg gs G tgll Gngmgl\n"
          ],
          "name": "stdout"
        }
      ]
    },
    {
      "cell_type": "markdown",
      "metadata": {
        "id": "4dekYOSLjftK"
      },
      "source": [
        "comments"
      ]
    },
    {
      "cell_type": "code",
      "metadata": {
        "colab": {
          "base_uri": "https://localhost:8080/",
          "height": 52
        },
        "id": "YQR_c9__jgsX",
        "outputId": "2ddd8f5f-2aa6-4536-9e08-706682571e2b"
      },
      "source": [
        "print(\"Comments are fun\")\n",
        "#this is a comment\n",
        "#this is my first python tutorial\n",
        "#i've learned many things"
      ],
      "execution_count": null,
      "outputs": [
        {
          "output_type": "stream",
          "text": [
            "Comments are fun\n"
          ],
          "name": "stdout"
        },
        {
          "output_type": "execute_result",
          "data": {
            "application/vnd.google.colaboratory.intrinsic+json": {
              "type": "string"
            },
            "text/plain": [
              "'\\njnadif\\nfbuf\\ndbdc c'"
            ]
          },
          "metadata": {
            "tags": []
          },
          "execution_count": 7
        }
      ]
    },
    {
      "cell_type": "markdown",
      "metadata": {
        "id": "guTMfb1bkXaE"
      },
      "source": [
        "## TRY **EXCEPT**\n",
        "catching errors \n"
      ]
    },
    {
      "cell_type": "code",
      "metadata": {
        "colab": {
          "base_uri": "https://localhost:8080/"
        },
        "id": "s56M8ifAkanr",
        "outputId": "dacf7d62-b673-4347-b7de-22702e5357a4"
      },
      "source": [
        "\n",
        "try : \n",
        "  value = 10/0\n",
        "  num = int(input(\"Enter a number : \"))\n",
        "  print(num)\n",
        "except : \n",
        "  print(\"INVALID INPUT\")"
      ],
      "execution_count": null,
      "outputs": [
        {
          "output_type": "stream",
          "text": [
            "INVALID INPUT\n"
          ],
          "name": "stdout"
        }
      ]
    },
    {
      "cell_type": "code",
      "metadata": {
        "colab": {
          "base_uri": "https://localhost:8080/"
        },
        "id": "jWZ40XTFImcX",
        "outputId": "32d11a83-db51-45b9-aa5c-e43f3d4b0289"
      },
      "source": [
        "try :\n",
        "  \n",
        "  num = int(input(\"enter a integer : \"))\n",
        "  print(num)\n",
        "  val = 10/0\n",
        "except ZeroDivisionError as err:\n",
        "  print(err)\n",
        "except ValueError : \n",
        "  print(\"Invalid Input\")"
      ],
      "execution_count": null,
      "outputs": [
        {
          "output_type": "stream",
          "text": [
            "enter a integer : 1\n",
            "1\n",
            "division by zero\n"
          ],
          "name": "stdout"
        }
      ]
    },
    {
      "cell_type": "markdown",
      "metadata": {
        "id": "81_F7mEJJxKz"
      },
      "source": [
        "## **READING FILES** \n",
        "from external files "
      ]
    },
    {
      "cell_type": "code",
      "metadata": {
        "id": "ZOUaSm0WKPSo",
        "colab": {
          "base_uri": "https://localhost:8080/"
        },
        "outputId": "09f751e5-b8b4-430a-c7c7-5248d5a136eb"
      },
      "source": [
        "emp_file = open(\"/content/employee.txt\",'r')\n",
        "for emp in emp_file.readlines():\n",
        "  print(emp)"
      ],
      "execution_count": null,
      "outputs": [
        {
          "output_type": "stream",
          "text": [
            "Jim - employee\n",
            "\n",
            "Dwain - employee\n",
            "\n",
            "Twain - Manager\n",
            "\n",
            "Joe - Recepionist\n",
            "\n",
            "Marry - Accountant\n"
          ],
          "name": "stdout"
        }
      ]
    },
    {
      "cell_type": "markdown",
      "metadata": {
        "id": "TrmWqK531Zox"
      },
      "source": [
        "## writing to file"
      ]
    },
    {
      "cell_type": "code",
      "metadata": {
        "id": "Ux0dzCJF1YTJ"
      },
      "source": [
        "emp = open(\"/content/emp2.txt\", 'w')\n",
        "emp.write(\"\\nShri 3\")\n",
        "emp.close()\n"
      ],
      "execution_count": null,
      "outputs": []
    },
    {
      "cell_type": "code",
      "metadata": {
        "id": "hJWfWZC06_1k"
      },
      "source": [
        "emp = open(\"/content/emp3\", 'w')\n",
        "emp.write(\"Dwain - salesperson\")\n",
        "emp.close()"
      ],
      "execution_count": null,
      "outputs": []
    },
    {
      "cell_type": "markdown",
      "metadata": {
        "id": "zXmGiECQWIPu"
      },
      "source": [
        "## **Modules and Pip**\n",
        "modules are is a python file that we can import into current python file \n",
        "\n",
        "access those functions variables from that file into current file\n",
        "\n",
        "pip - preinstalled with python3 - used to install python modules \n",
        "\n",
        "      - called a package manager       \n",
        "      - allows to install, update, manage, uninstall -different python modules\n"
      ]
    },
    {
      "cell_type": "code",
      "metadata": {
        "id": "VGiVGYFfWju2",
        "colab": {
          "base_uri": "https://localhost:8080/"
        },
        "outputId": "ae04cf7d-9d3b-4c69-e72b-a6efe8966eb9"
      },
      "source": [
        "pip install python-docx"
      ],
      "execution_count": null,
      "outputs": [
        {
          "output_type": "stream",
          "text": [
            "Collecting python-docx\n",
            "\u001b[?25l  Downloading https://files.pythonhosted.org/packages/e4/83/c66a1934ed5ed8ab1dbb9931f1779079f8bca0f6bbc5793c06c4b5e7d671/python-docx-0.8.10.tar.gz (5.5MB)\n",
            "\u001b[K     |████████████████████████████████| 5.5MB 15.8MB/s \n",
            "\u001b[?25hRequirement already satisfied: lxml>=2.3.2 in /usr/local/lib/python3.7/dist-packages (from python-docx) (4.2.6)\n",
            "Building wheels for collected packages: python-docx\n",
            "  Building wheel for python-docx (setup.py) ... \u001b[?25l\u001b[?25hdone\n",
            "  Created wheel for python-docx: filename=python_docx-0.8.10-cp37-none-any.whl size=184491 sha256=46a5350e180ab9b2978a532869f8e433c5d43ad9e7f12999795d972ee173bcf4\n",
            "  Stored in directory: /root/.cache/pip/wheels/18/0b/a0/1dd62ff812c857c9e487f27d80d53d2b40531bec1acecfa47b\n",
            "Successfully built python-docx\n",
            "Installing collected packages: python-docx\n",
            "Successfully installed python-docx-0.8.10\n"
          ],
          "name": "stdout"
        }
      ]
    },
    {
      "cell_type": "markdown",
      "metadata": {
        "id": "rb3yauTtM7hC"
      },
      "source": [
        "# **Classes and Objects**\n",
        "create our own data type - classes\n"
      ]
    },
    {
      "cell_type": "code",
      "metadata": {
        "id": "Q1aD5ItWNDkc",
        "colab": {
          "base_uri": "https://localhost:8080/"
        },
        "outputId": "3cc8569b-d1ce-4286-b6a5-8c91a2161b31"
      },
      "source": [
        "mystr = \"Hello World\"\n",
        "print(mystr.count(\"o\"))"
      ],
      "execution_count": null,
      "outputs": [
        {
          "output_type": "stream",
          "text": [
            "2\n"
          ],
          "name": "stdout"
        }
      ]
    }
  ]
}